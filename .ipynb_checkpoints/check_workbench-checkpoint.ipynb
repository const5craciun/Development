{
 "cells": [
  {
   "cell_type": "code",
   "execution_count": null,
   "id": "1dba4a3f-64d1-42c4-88c3-b51ab8df3a91",
   "metadata": {},
   "outputs": [],
   "source": []
  },
  {
   "cell_type": "code",
   "execution_count": 1,
   "id": "9b540f72-b16c-4ffc-8137-d37dc4540f60",
   "metadata": {},
   "outputs": [],
   "source": [
    "import pandas as pd\n",
    "import pytest\n",
    "import psycopg2\n",
    "import os\n",
    "from sqlalchemy import create_engine, MetaData, Table\n",
    "import sqlalchemy as sa\n"
   ]
  },
  {
   "cell_type": "code",
   "execution_count": 2,
   "id": "0b7e4d65-0a2e-4fc4-b4a3-a5aeb1d94501",
   "metadata": {},
   "outputs": [],
   "source": [
    "from projects.simple import check1"
   ]
  },
  {
   "cell_type": "code",
   "execution_count": 3,
   "id": "102ef1f5-ed5d-415d-814c-8744503ad6b5",
   "metadata": {},
   "outputs": [],
   "source": [
    "x = check1()\n",
    "assert x == 5"
   ]
  },
  {
   "cell_type": "code",
   "execution_count": 1,
   "id": "c4a319a4-a083-4f08-afc9-7fa48f2a70ba",
   "metadata": {},
   "outputs": [
    {
     "ename": "ModuleNotFoundError",
     "evalue": "No module named 'data_library.io'",
     "output_type": "error",
     "traceback": [
      "\u001b[0;31m---------------------------------------------------------------------------\u001b[0m",
      "\u001b[0;31mModuleNotFoundError\u001b[0m                       Traceback (most recent call last)",
      "Cell \u001b[0;32mIn[1], line 1\u001b[0m\n\u001b[0;32m----> 1\u001b[0m \u001b[38;5;28;01mfrom\u001b[39;00m\u001b[38;5;250m \u001b[39m\u001b[38;5;21;01mdata_library\u001b[39;00m\u001b[38;5;21;01m.\u001b[39;00m\u001b[38;5;21;01mio\u001b[39;00m\u001b[38;5;21;01m.\u001b[39;00m\u001b[38;5;21;01mdb_connect\u001b[39;00m\u001b[38;5;250m \u001b[39m\u001b[38;5;28;01mimport\u001b[39;00m autoload_table\n",
      "\u001b[0;31mModuleNotFoundError\u001b[0m: No module named 'data_library.io'"
     ]
    }
   ],
   "source": [
    "from data_library.io.db_connect import autoload_table\n"
   ]
  },
  {
   "cell_type": "code",
   "execution_count": 4,
   "id": "438c4756-96da-44be-bc5a-3c8eea067045",
   "metadata": {},
   "outputs": [],
   "source": [
    "my_secret = os.environ.get(\"db_name\")\n",
    "\n"
   ]
  },
  {
   "cell_type": "code",
   "execution_count": 11,
   "id": "b4834cc2-2336-4670-bb81-311ef8d73012",
   "metadata": {},
   "outputs": [],
   "source": [
    "class Solution(object):\n",
    "    def __init__(self, text, brokenLetters):\n",
    "        self.text = text\n",
    "        self.brokenLetters = set(brokenLetters)\n",
    "\n",
    "    def canBeTypedWords(self):\n",
    "        return sum(1 for word in self.text.split()\n",
    "                   if not (set(word) & self.brokenLetters))\n",
    "\n",
    "    def __call__(self):\n",
    "        print(self.canBeTypedWords())\n"
   ]
  },
  {
   "cell_type": "code",
   "execution_count": 12,
   "id": "c4c64728-27b3-4e76-9a98-76af6fe0fb3c",
   "metadata": {},
   "outputs": [
    {
     "name": "stdout",
     "output_type": "stream",
     "text": [
      "1\n"
     ]
    }
   ],
   "source": [
    "ex = Solution(\"hello world\", \"d\")\n",
    "ex()\n"
   ]
  },
  {
   "cell_type": "code",
   "execution_count": null,
   "id": "72f76e5a-e3d6-4db2-bf77-6797c9ebb799",
   "metadata": {},
   "outputs": [],
   "source": []
  }
 ],
 "metadata": {
  "kernelspec": {
   "display_name": "Python 3 (ipykernel)",
   "language": "python",
   "name": "python3"
  },
  "language_info": {
   "codemirror_mode": {
    "name": "ipython",
    "version": 3
   },
   "file_extension": ".py",
   "mimetype": "text/x-python",
   "name": "python",
   "nbconvert_exporter": "python",
   "pygments_lexer": "ipython3",
   "version": "3.10.18"
  }
 },
 "nbformat": 4,
 "nbformat_minor": 5
}
