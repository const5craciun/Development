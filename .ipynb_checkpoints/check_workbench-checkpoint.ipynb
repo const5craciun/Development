{
 "cells": [
  {
   "cell_type": "code",
   "execution_count": 5,
   "id": "9b540f72-b16c-4ffc-8137-d37dc4540f60",
   "metadata": {},
   "outputs": [],
   "source": [
    "import pandas as pd\n",
    "import pytest"
   ]
  },
  {
   "cell_type": "code",
   "execution_count": 4,
   "id": "0b7e4d65-0a2e-4fc4-b4a3-a5aeb1d94501",
   "metadata": {},
   "outputs": [],
   "source": [
    "from projects.simple import check1"
   ]
  },
  {
   "cell_type": "code",
   "execution_count": 8,
   "id": "102ef1f5-ed5d-415d-814c-8744503ad6b5",
   "metadata": {},
   "outputs": [],
   "source": [
    "x = check1()\n",
    "assert x == 5"
   ]
  },
  {
   "cell_type": "code",
   "execution_count": null,
   "id": "cc85b848-94e7-4706-bd57-c7f4b8330c3e",
   "metadata": {},
   "outputs": [],
   "source": []
  },
  {
   "cell_type": "code",
   "execution_count": null,
   "id": "ff46a2a9-5064-4d97-b5e8-a1185101ffed",
   "metadata": {},
   "outputs": [],
   "source": []
  }
 ],
 "metadata": {
  "kernelspec": {
   "display_name": "Python 3 (ipykernel)",
   "language": "python",
   "name": "python3"
  },
  "language_info": {
   "codemirror_mode": {
    "name": "ipython",
    "version": 3
   },
   "file_extension": ".py",
   "mimetype": "text/x-python",
   "name": "python",
   "nbconvert_exporter": "python",
   "pygments_lexer": "ipython3",
   "version": "3.10.18"
  }
 },
 "nbformat": 4,
 "nbformat_minor": 5
}
