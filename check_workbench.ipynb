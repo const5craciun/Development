{
 "cells": [
  {
   "cell_type": "code",
   "execution_count": null,
   "id": "1dba4a3f-64d1-42c4-88c3-b51ab8df3a91",
   "metadata": {},
   "outputs": [],
   "source": []
  },
  {
   "cell_type": "code",
   "execution_count": 1,
   "id": "9b540f72-b16c-4ffc-8137-d37dc4540f60",
   "metadata": {},
   "outputs": [],
   "source": [
    "import pandas as pd\n",
    "import pytest\n",
    "import psycopg2\n",
    "import os\n",
    "from sqlalchemy import create_engine, MetaData, Table\n",
    "import sqlalchemy as sa\n"
   ]
  },
  {
   "cell_type": "code",
   "execution_count": 2,
   "id": "0b7e4d65-0a2e-4fc4-b4a3-a5aeb1d94501",
   "metadata": {},
   "outputs": [],
   "source": [
    "from projects.simple import check1"
   ]
  },
  {
   "cell_type": "code",
   "execution_count": 3,
   "id": "102ef1f5-ed5d-415d-814c-8744503ad6b5",
   "metadata": {},
   "outputs": [],
   "source": [
    "x = check1()\n",
    "assert x == 5"
   ]
  },
  {
   "cell_type": "code",
   "execution_count": 1,
   "id": "c4a319a4-a083-4f08-afc9-7fa48f2a70ba",
   "metadata": {},
   "outputs": [
    {
     "ename": "ModuleNotFoundError",
     "evalue": "No module named 'data_library.io'",
     "output_type": "error",
     "traceback": [
      "\u001b[0;31m---------------------------------------------------------------------------\u001b[0m",
      "\u001b[0;31mModuleNotFoundError\u001b[0m                       Traceback (most recent call last)",
      "Cell \u001b[0;32mIn[1], line 1\u001b[0m\n\u001b[0;32m----> 1\u001b[0m \u001b[38;5;28;01mfrom\u001b[39;00m\u001b[38;5;250m \u001b[39m\u001b[38;5;21;01mdata_library\u001b[39;00m\u001b[38;5;21;01m.\u001b[39;00m\u001b[38;5;21;01mio\u001b[39;00m\u001b[38;5;21;01m.\u001b[39;00m\u001b[38;5;21;01mdb_connect\u001b[39;00m\u001b[38;5;250m \u001b[39m\u001b[38;5;28;01mimport\u001b[39;00m autoload_table\n",
      "\u001b[0;31mModuleNotFoundError\u001b[0m: No module named 'data_library.io'"
     ]
    }
   ],
   "source": [
    "from data_library.io.db_connect import autoload_table\n"
   ]
  },
  {
   "cell_type": "code",
   "execution_count": 4,
   "id": "438c4756-96da-44be-bc5a-3c8eea067045",
   "metadata": {},
   "outputs": [],
   "source": [
    "my_secret = os.environ.get(\"db_name\")\n",
    "\n"
   ]
  },
  {
   "cell_type": "code",
   "execution_count": 14,
   "id": "72f76e5a-e3d6-4db2-bf77-6797c9ebb799",
   "metadata": {},
   "outputs": [
    {
     "name": "stdout",
     "output_type": "stream",
     "text": [
      "{'fact': 'Julius Ceasar, Henri II, Charles XI, and Napoleon were all afraid of cats.', 'length': 74}\n"
     ]
    }
   ],
   "source": [
    "import requests\n",
    "\n",
    "url = \"https://catfact.ninja/fact\"\n",
    "response = requests.get(url)\n",
    "print(response.json())\n"
   ]
  },
  {
   "cell_type": "code",
   "execution_count": 15,
   "id": "33d5b17b-f81b-463b-a0c7-b4c6910110cd",
   "metadata": {},
   "outputs": [
    {
     "name": "stdout",
     "output_type": "stream",
     "text": [
      "{'fact': 'Some cats have survived falls of over 65 feet (20 meters), due largely to their “righting reflex.” The eyes and balance organs in the inner ear tell it where it is in space so the cat can land on its feet. Even cats without a tail have this ability.', 'length': 249}\n"
     ]
    }
   ],
   "source": [
    "import requests\n",
    "\n",
    "url = \"https://catfact.ninja/fact\"\n",
    "response = requests.get(url)\n",
    "print(response.json())\n"
   ]
  },
  {
   "cell_type": "code",
   "execution_count": 20,
   "id": "4d619447-718d-4bee-ad46-61b86631e08e",
   "metadata": {},
   "outputs": [
    {
     "name": "stdout",
     "output_type": "stream",
     "text": [
      "Andorra (AD) - Continent: Europe, Currency: EUR\n",
      "United Arab Emirates (AE) - Continent: Asia, Currency: AED\n",
      "Afghanistan (AF) - Continent: Asia, Currency: AFN\n",
      "Antigua and Barbuda (AG) - Continent: North America, Currency: XCD\n",
      "Anguilla (AI) - Continent: North America, Currency: XCD\n",
      "Albania (AL) - Continent: Europe, Currency: ALL\n",
      "Armenia (AM) - Continent: Asia, Currency: AMD\n",
      "Angola (AO) - Continent: Africa, Currency: AOA\n",
      "Antarctica (AQ) - Continent: Antarctica, Currency: None\n",
      "Argentina (AR) - Continent: South America, Currency: ARS\n"
     ]
    }
   ],
   "source": [
    "import requests\n",
    "\n",
    "\n",
    "url = \"https://countries.trevorblades.com/\"\n",
    "\n",
    "query = \"\"\"\n",
    "{\n",
    "  countries {\n",
    "    code\n",
    "    name\n",
    "    continent {\n",
    "      name\n",
    "    }\n",
    "    currency\n",
    "  }\n",
    "}\n",
    "\"\"\"\n",
    "\n",
    "# Send POST request\n",
    "response = requests.post(url, json={'query': query})\n",
    "\n",
    "# Check status and parse JSON\n",
    "if response.status_code == 200:\n",
    "    data = response.json()\n",
    "    for country in data['data']['countries'][:10]:  # show first 10 for brevity\n",
    "        print(f\"{country['name']} ({country['code']}) - Continent: {country['continent']['name']}, Currency: {country['currency']}\")\n",
    "else:\n",
    "    print(\"Query failed:\", response.status_code)\n"
   ]
  },
  {
   "cell_type": "code",
   "execution_count": null,
   "id": "c519a700-0540-4f35-8988-c4f422a8cb0c",
   "metadata": {},
   "outputs": [],
   "source": []
  }
 ],
 "metadata": {
  "kernelspec": {
   "display_name": "Python 3 (ipykernel)",
   "language": "python",
   "name": "python3"
  },
  "language_info": {
   "codemirror_mode": {
    "name": "ipython",
    "version": 3
   },
   "file_extension": ".py",
   "mimetype": "text/x-python",
   "name": "python",
   "nbconvert_exporter": "python",
   "pygments_lexer": "ipython3",
   "version": "3.10.18"
  }
 },
 "nbformat": 4,
 "nbformat_minor": 5
}
